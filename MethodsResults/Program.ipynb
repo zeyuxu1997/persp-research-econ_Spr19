{
 "cells": [
  {
   "cell_type": "code",
   "execution_count": 1,
   "metadata": {},
   "outputs": [],
   "source": [
    "import numpy as np\n",
    "import pandas as pd\n",
    "import scipy.optimize as opt"
   ]
  },
  {
   "cell_type": "code",
   "execution_count": 2,
   "metadata": {},
   "outputs": [],
   "source": [
    "Geography = np.zeros(62,dtype = 'object')\n",
    "income_mean = np.zeros((62,7))\n",
    "income_median = np.zeros((62,7))\n",
    "total_pop = np.zeros((62,7))\n",
    "black_pop = np.zeros((62,7))\n",
    "white_pop = np.zeros((62,7))\n",
    "black_rate = np.zeros((62,7))\n",
    "white_rate = np.zeros((62,7))"
   ]
  },
  {
   "cell_type": "code",
   "execution_count": 3,
   "metadata": {},
   "outputs": [],
   "source": [
    "file_list = ['Income/ACS_11_5YR_S1901_with_ann.csv','Income/ACS_12_5YR_S1901_with_ann.csv','Income/ACS_13_5YR_S1901_with_ann.csv',\n",
    "             'Income/ACS_14_5YR_S1901_with_ann.csv','Income/ACS_15_5YR_S1901_with_ann.csv','Income/ACS_16_5YR_S1901_with_ann.csv',\n",
    "             'Income/ACS_17_5YR_S1901_with_ann.csv']\n",
    "file_list2 = ['Population/ACS_11_5YR_B02001_with_ann.csv','Population/ACS_12_5YR_B02001_with_ann.csv','Population/ACS_13_5YR_B02001_with_ann.csv',\n",
    "              'Population/ACS_14_5YR_B02001_with_ann.csv','Population/ACS_15_5YR_B02001_with_ann.csv','Population/ACS_16_5YR_B02001_with_ann.csv',\n",
    "              'Population/ACS_17_5YR_B02001_with_ann.csv']\n",
    "for i in range(6):\n",
    "    data1 = pd.read_csv(file_list[i],header = None, skiprows = [0,1], names = ['zipcode','income median','income mean'], usecols = [2,91,99])\n",
    "    data2 = pd.read_csv(file_list2[i],header = None, skiprows = [0,1], names = ['zipcode', 'total', 'white', 'black'], usecols = [2,3,5,7])\n",
    "    for j in range(62):\n",
    "        Geography[j] = data1['zipcode'][j]\n",
    "        income_mean[j,i] = data1['income mean'][j]\n",
    "        income_median[j,i] = data1['income median'][j]\n",
    "        total_pop[j,i] = data2['total'][j]\n",
    "        white_pop[j,i] = data2['white'][j]\n",
    "        black_pop[j,i] = data2['black'][j]\n",
    "        white_rate[j,i] = white_pop[j,i]/total_pop[j,i]\n",
    "        black_rate[j,i] = black_pop[j,i]/total_pop[j,i]\n",
    "data1 = pd.read_csv(file_list[6],header = None, skiprows = [0,1], names = ['zipcode','income median','income mean'], usecols = [2,25,27])\n",
    "data2 = pd.read_csv(file_list2[6],header = None, skiprows = [0,1], names = ['zipcode', 'total', 'white', 'black'], usecols = [2,3,5,7])\n",
    "for j in range(62):\n",
    "    Geography[j] = data1['zipcode'][j]\n",
    "    income_mean[j,6] = data1['income mean'][j]\n",
    "    income_median[j,6] = data1['income median'][j]\n",
    "    total_pop[j,6] = data2['total'][j]\n",
    "    white_pop[j,6] = data2['white'][j]\n",
    "    black_pop[j,6] = data2['black'][j]\n",
    "    white_rate[j,6] = white_pop[j,6]/total_pop[j,6]\n",
    "    black_rate[j,6] = black_pop[j,6]/total_pop[j,6]\n"
   ]
  },
  {
   "cell_type": "code",
   "execution_count": 4,
   "metadata": {},
   "outputs": [],
   "source": [
    "Transition_init = 1/62*np.ones((62,62))\n",
    "def Process(P):\n",
    "    P_norm = np.zeros((62,62))\n",
    "    for i in range(62):\n",
    "        P_norm[i,:] = P[i,:]/P[i,:].sum()\n",
    "    return black_pop[:,0].reshape(1,-1) @ P\n",
    "def loss(P):\n",
    "    Pre = Process(P.reshape((62,62)))\n",
    "    return ((Pre-black_pop[:,1]*(black_pop[:,0].sum()/black_pop[:,1].sum()))**2).sum()"
   ]
  },
  {
   "cell_type": "code",
   "execution_count": 5,
   "metadata": {},
   "outputs": [
    {
     "data": {
      "text/plain": [
       "(62, 62)"
      ]
     },
     "execution_count": 5,
     "metadata": {},
     "output_type": "execute_result"
    }
   ],
   "source": [
    "Transition_init.shape"
   ]
  },
  {
   "cell_type": "code",
   "execution_count": 6,
   "metadata": {},
   "outputs": [],
   "source": [
    "def loss(params):\n",
    "    b1, b2, r = params\n",
    "    Loss = []\n",
    "    black_pre = np.zeros((62,7))\n",
    "    black_pre[:,0] = black_pop[:,0]\n",
    "    def pr(x1, x2, x3, x4):\n",
    "        u1 = b1*np.log(x1) + b2*x2\n",
    "        u2 = b1*np.log(x3) + b2*x4\n",
    "        diff = u2-u1\n",
    "        return 1/(1+np.exp(-diff))\n",
    "    for i in range(6):\n",
    "        probability = np.zeros((62,62))\n",
    "        black_pop_end = np.zeros(62)\n",
    "        black_rate_end_true = black_rate[:,i+1]\n",
    "        income_start = income_mean[:,i]\n",
    "        black_rate_start = black_rate[:,i]\n",
    "        black_pop_start = black_pop[:,i]\n",
    "        for j in range(62):\n",
    "            for k in range(62):\n",
    "                x1, x2, x3, x4 = income_start[j], black_rate_start[j], income_start[k], black_rate_start[k]\n",
    "                probability[j,k] = pr(x1, x2, x3, x4)\n",
    "        for q in range(62):\n",
    "            probability[q,q] = 1\n",
    "            total = probability[q,:].sum() - 1\n",
    "            if total == 0:\n",
    "                total = 1\n",
    "            probability[q,:] = (1-r)*probability[q,:]/total\n",
    "            probability[q,q] = r\n",
    "        for p in range(62):\n",
    "            black_pop_end[p] = (probability[:,p]*black_pop_start).sum()\n",
    "        black_pre[:,i+1] = black_pop_end\n",
    "        loss = (np.abs(black_pop_end-black_pop[:,i+1])).sum()\n",
    "        Loss.append(loss)\n",
    "    return np.array(Loss).sum()"
   ]
  },
  {
   "cell_type": "code",
   "execution_count": 7,
   "metadata": {},
   "outputs": [
    {
     "ename": "ValueError",
     "evalue": "too many values to unpack (expected 3)",
     "output_type": "error",
     "traceback": [
      "\u001b[1;31m---------------------------------------------------------------------------\u001b[0m",
      "\u001b[1;31mValueError\u001b[0m                                Traceback (most recent call last)",
      "\u001b[1;32m<ipython-input-7-452f1d5d2e78>\u001b[0m in \u001b[0;36m<module>\u001b[1;34m\u001b[0m\n\u001b[0;32m      1\u001b[0m \u001b[0mparams_init\u001b[0m \u001b[1;33m=\u001b[0m \u001b[0mTransition_init\u001b[0m\u001b[1;33m\u001b[0m\u001b[1;33m\u001b[0m\u001b[0m\n\u001b[0;32m      2\u001b[0m \u001b[1;33m\u001b[0m\u001b[0m\n\u001b[1;32m----> 3\u001b[1;33m \u001b[0mresults\u001b[0m \u001b[1;33m=\u001b[0m \u001b[0mopt\u001b[0m\u001b[1;33m.\u001b[0m\u001b[0mminimize\u001b[0m\u001b[1;33m(\u001b[0m\u001b[0mloss\u001b[0m\u001b[1;33m,\u001b[0m \u001b[0mparams_init\u001b[0m\u001b[1;33m,\u001b[0m \u001b[0mbounds\u001b[0m \u001b[1;33m=\u001b[0m \u001b[1;33m[\u001b[0m\u001b[1;33m(\u001b[0m\u001b[1;36m1e-5\u001b[0m\u001b[1;33m,\u001b[0m \u001b[1;32mNone\u001b[0m\u001b[1;33m)\u001b[0m\u001b[1;33m]\u001b[0m\u001b[1;33m*\u001b[0m\u001b[1;33m(\u001b[0m\u001b[1;36m62\u001b[0m\u001b[1;33m*\u001b[0m\u001b[1;36m62\u001b[0m\u001b[1;33m)\u001b[0m\u001b[1;33m)\u001b[0m\u001b[1;33m\u001b[0m\u001b[1;33m\u001b[0m\u001b[0m\n\u001b[0m\u001b[0;32m      4\u001b[0m \u001b[0mP\u001b[0m \u001b[1;33m=\u001b[0m \u001b[0mresults\u001b[0m\u001b[1;33m.\u001b[0m\u001b[0mx\u001b[0m\u001b[1;33m.\u001b[0m\u001b[0mreshape\u001b[0m\u001b[1;33m(\u001b[0m\u001b[1;33m(\u001b[0m\u001b[1;36m62\u001b[0m\u001b[1;33m,\u001b[0m\u001b[1;36m62\u001b[0m\u001b[1;33m)\u001b[0m\u001b[1;33m)\u001b[0m\u001b[1;33m\u001b[0m\u001b[1;33m\u001b[0m\u001b[0m\n\u001b[0;32m      5\u001b[0m \u001b[1;33m\u001b[0m\u001b[0m\n",
      "\u001b[1;32m~\\Anaconda3\\lib\\site-packages\\scipy\\optimize\\_minimize.py\u001b[0m in \u001b[0;36mminimize\u001b[1;34m(fun, x0, args, method, jac, hess, hessp, bounds, constraints, tol, callback, options)\u001b[0m\n\u001b[0;32m    601\u001b[0m     \u001b[1;32melif\u001b[0m \u001b[0mmeth\u001b[0m \u001b[1;33m==\u001b[0m \u001b[1;34m'l-bfgs-b'\u001b[0m\u001b[1;33m:\u001b[0m\u001b[1;33m\u001b[0m\u001b[1;33m\u001b[0m\u001b[0m\n\u001b[0;32m    602\u001b[0m         return _minimize_lbfgsb(fun, x0, args, jac, bounds,\n\u001b[1;32m--> 603\u001b[1;33m                                 callback=callback, **options)\n\u001b[0m\u001b[0;32m    604\u001b[0m     \u001b[1;32melif\u001b[0m \u001b[0mmeth\u001b[0m \u001b[1;33m==\u001b[0m \u001b[1;34m'tnc'\u001b[0m\u001b[1;33m:\u001b[0m\u001b[1;33m\u001b[0m\u001b[1;33m\u001b[0m\u001b[0m\n\u001b[0;32m    605\u001b[0m         return _minimize_tnc(fun, x0, args, jac, bounds, callback=callback,\n",
      "\u001b[1;32m~\\Anaconda3\\lib\\site-packages\\scipy\\optimize\\lbfgsb.py\u001b[0m in \u001b[0;36m_minimize_lbfgsb\u001b[1;34m(fun, x0, args, jac, bounds, disp, maxcor, ftol, gtol, eps, maxfun, maxiter, iprint, callback, maxls, **unknown_options)\u001b[0m\n\u001b[0;32m    333\u001b[0m             \u001b[1;31m# until the completion of the current minimization iteration.\u001b[0m\u001b[1;33m\u001b[0m\u001b[1;33m\u001b[0m\u001b[1;33m\u001b[0m\u001b[0m\n\u001b[0;32m    334\u001b[0m             \u001b[1;31m# Overwrite f and g:\u001b[0m\u001b[1;33m\u001b[0m\u001b[1;33m\u001b[0m\u001b[1;33m\u001b[0m\u001b[0m\n\u001b[1;32m--> 335\u001b[1;33m             \u001b[0mf\u001b[0m\u001b[1;33m,\u001b[0m \u001b[0mg\u001b[0m \u001b[1;33m=\u001b[0m \u001b[0mfunc_and_grad\u001b[0m\u001b[1;33m(\u001b[0m\u001b[0mx\u001b[0m\u001b[1;33m)\u001b[0m\u001b[1;33m\u001b[0m\u001b[1;33m\u001b[0m\u001b[0m\n\u001b[0m\u001b[0;32m    336\u001b[0m         \u001b[1;32melif\u001b[0m \u001b[0mtask_str\u001b[0m\u001b[1;33m.\u001b[0m\u001b[0mstartswith\u001b[0m\u001b[1;33m(\u001b[0m\u001b[1;34mb'NEW_X'\u001b[0m\u001b[1;33m)\u001b[0m\u001b[1;33m:\u001b[0m\u001b[1;33m\u001b[0m\u001b[1;33m\u001b[0m\u001b[0m\n\u001b[0;32m    337\u001b[0m             \u001b[1;31m# new iteration\u001b[0m\u001b[1;33m\u001b[0m\u001b[1;33m\u001b[0m\u001b[1;33m\u001b[0m\u001b[0m\n",
      "\u001b[1;32m~\\Anaconda3\\lib\\site-packages\\scipy\\optimize\\lbfgsb.py\u001b[0m in \u001b[0;36mfunc_and_grad\u001b[1;34m(x)\u001b[0m\n\u001b[0;32m    278\u001b[0m     \u001b[1;32mif\u001b[0m \u001b[0mjac\u001b[0m \u001b[1;32mis\u001b[0m \u001b[1;32mNone\u001b[0m\u001b[1;33m:\u001b[0m\u001b[1;33m\u001b[0m\u001b[1;33m\u001b[0m\u001b[0m\n\u001b[0;32m    279\u001b[0m         \u001b[1;32mdef\u001b[0m \u001b[0mfunc_and_grad\u001b[0m\u001b[1;33m(\u001b[0m\u001b[0mx\u001b[0m\u001b[1;33m)\u001b[0m\u001b[1;33m:\u001b[0m\u001b[1;33m\u001b[0m\u001b[1;33m\u001b[0m\u001b[0m\n\u001b[1;32m--> 280\u001b[1;33m             \u001b[0mf\u001b[0m \u001b[1;33m=\u001b[0m \u001b[0mfun\u001b[0m\u001b[1;33m(\u001b[0m\u001b[0mx\u001b[0m\u001b[1;33m,\u001b[0m \u001b[1;33m*\u001b[0m\u001b[0margs\u001b[0m\u001b[1;33m)\u001b[0m\u001b[1;33m\u001b[0m\u001b[1;33m\u001b[0m\u001b[0m\n\u001b[0m\u001b[0;32m    281\u001b[0m             \u001b[0mg\u001b[0m \u001b[1;33m=\u001b[0m \u001b[0m_approx_fprime_helper\u001b[0m\u001b[1;33m(\u001b[0m\u001b[0mx\u001b[0m\u001b[1;33m,\u001b[0m \u001b[0mfun\u001b[0m\u001b[1;33m,\u001b[0m \u001b[0mepsilon\u001b[0m\u001b[1;33m,\u001b[0m \u001b[0margs\u001b[0m\u001b[1;33m=\u001b[0m\u001b[0margs\u001b[0m\u001b[1;33m,\u001b[0m \u001b[0mf0\u001b[0m\u001b[1;33m=\u001b[0m\u001b[0mf\u001b[0m\u001b[1;33m)\u001b[0m\u001b[1;33m\u001b[0m\u001b[1;33m\u001b[0m\u001b[0m\n\u001b[0;32m    282\u001b[0m             \u001b[1;32mreturn\u001b[0m \u001b[0mf\u001b[0m\u001b[1;33m,\u001b[0m \u001b[0mg\u001b[0m\u001b[1;33m\u001b[0m\u001b[1;33m\u001b[0m\u001b[0m\n",
      "\u001b[1;32m~\\Anaconda3\\lib\\site-packages\\scipy\\optimize\\optimize.py\u001b[0m in \u001b[0;36mfunction_wrapper\u001b[1;34m(*wrapper_args)\u001b[0m\n\u001b[0;32m    291\u001b[0m     \u001b[1;32mdef\u001b[0m \u001b[0mfunction_wrapper\u001b[0m\u001b[1;33m(\u001b[0m\u001b[1;33m*\u001b[0m\u001b[0mwrapper_args\u001b[0m\u001b[1;33m)\u001b[0m\u001b[1;33m:\u001b[0m\u001b[1;33m\u001b[0m\u001b[1;33m\u001b[0m\u001b[0m\n\u001b[0;32m    292\u001b[0m         \u001b[0mncalls\u001b[0m\u001b[1;33m[\u001b[0m\u001b[1;36m0\u001b[0m\u001b[1;33m]\u001b[0m \u001b[1;33m+=\u001b[0m \u001b[1;36m1\u001b[0m\u001b[1;33m\u001b[0m\u001b[1;33m\u001b[0m\u001b[0m\n\u001b[1;32m--> 293\u001b[1;33m         \u001b[1;32mreturn\u001b[0m \u001b[0mfunction\u001b[0m\u001b[1;33m(\u001b[0m\u001b[1;33m*\u001b[0m\u001b[1;33m(\u001b[0m\u001b[0mwrapper_args\u001b[0m \u001b[1;33m+\u001b[0m \u001b[0margs\u001b[0m\u001b[1;33m)\u001b[0m\u001b[1;33m)\u001b[0m\u001b[1;33m\u001b[0m\u001b[1;33m\u001b[0m\u001b[0m\n\u001b[0m\u001b[0;32m    294\u001b[0m \u001b[1;33m\u001b[0m\u001b[0m\n\u001b[0;32m    295\u001b[0m     \u001b[1;32mreturn\u001b[0m \u001b[0mncalls\u001b[0m\u001b[1;33m,\u001b[0m \u001b[0mfunction_wrapper\u001b[0m\u001b[1;33m\u001b[0m\u001b[1;33m\u001b[0m\u001b[0m\n",
      "\u001b[1;32m<ipython-input-6-6772c14ecce0>\u001b[0m in \u001b[0;36mloss\u001b[1;34m(params)\u001b[0m\n\u001b[0;32m      1\u001b[0m \u001b[1;32mdef\u001b[0m \u001b[0mloss\u001b[0m\u001b[1;33m(\u001b[0m\u001b[0mparams\u001b[0m\u001b[1;33m)\u001b[0m\u001b[1;33m:\u001b[0m\u001b[1;33m\u001b[0m\u001b[1;33m\u001b[0m\u001b[0m\n\u001b[1;32m----> 2\u001b[1;33m     \u001b[0mb1\u001b[0m\u001b[1;33m,\u001b[0m \u001b[0mb2\u001b[0m\u001b[1;33m,\u001b[0m \u001b[0mr\u001b[0m \u001b[1;33m=\u001b[0m \u001b[0mparams\u001b[0m\u001b[1;33m\u001b[0m\u001b[1;33m\u001b[0m\u001b[0m\n\u001b[0m\u001b[0;32m      3\u001b[0m     \u001b[0mLoss\u001b[0m \u001b[1;33m=\u001b[0m \u001b[1;33m[\u001b[0m\u001b[1;33m]\u001b[0m\u001b[1;33m\u001b[0m\u001b[1;33m\u001b[0m\u001b[0m\n\u001b[0;32m      4\u001b[0m     \u001b[0mblack_pre\u001b[0m \u001b[1;33m=\u001b[0m \u001b[0mnp\u001b[0m\u001b[1;33m.\u001b[0m\u001b[0mzeros\u001b[0m\u001b[1;33m(\u001b[0m\u001b[1;33m(\u001b[0m\u001b[1;36m62\u001b[0m\u001b[1;33m,\u001b[0m\u001b[1;36m7\u001b[0m\u001b[1;33m)\u001b[0m\u001b[1;33m)\u001b[0m\u001b[1;33m\u001b[0m\u001b[1;33m\u001b[0m\u001b[0m\n\u001b[0;32m      5\u001b[0m     \u001b[0mblack_pre\u001b[0m\u001b[1;33m[\u001b[0m\u001b[1;33m:\u001b[0m\u001b[1;33m,\u001b[0m\u001b[1;36m0\u001b[0m\u001b[1;33m]\u001b[0m \u001b[1;33m=\u001b[0m \u001b[0mblack_pop\u001b[0m\u001b[1;33m[\u001b[0m\u001b[1;33m:\u001b[0m\u001b[1;33m,\u001b[0m\u001b[1;36m0\u001b[0m\u001b[1;33m]\u001b[0m\u001b[1;33m\u001b[0m\u001b[1;33m\u001b[0m\u001b[0m\n",
      "\u001b[1;31mValueError\u001b[0m: too many values to unpack (expected 3)"
     ]
    }
   ],
   "source": [
    "params_init = Transition_init\n",
    "\n",
    "results = opt.minimize(loss, params_init, bounds = [(1e-5, None)]*(62*62))\n",
    "P = results.x.reshape((62,62))\n",
    "\n",
    "print('P_MLE=', P)"
   ]
  },
  {
   "cell_type": "code",
   "execution_count": null,
   "metadata": {},
   "outputs": [],
   "source": [
    "results"
   ]
  },
  {
   "cell_type": "code",
   "execution_count": null,
   "metadata": {},
   "outputs": [],
   "source": [
    "Process(P)"
   ]
  },
  {
   "cell_type": "code",
   "execution_count": null,
   "metadata": {},
   "outputs": [],
   "source": [
    "def Mat(params):\n",
    "    b1, b2, r = params\n",
    "    Loss = []\n",
    "    black_pre = np.zeros((62,7))\n",
    "    black_pre[:,0] = black_pop[:,0]\n",
    "    def pr(x1, x2, x3, x4):\n",
    "        u1 = b1*x1 + b2*x2\n",
    "        u2 = b1*x3 + b2*x4\n",
    "        diff = u2-u1\n",
    "        return 1/(1+np.exp(-diff))\n",
    "    for i in range(6):\n",
    "        probability = np.zeros((62,62))\n",
    "        black_pop_end = np.zeros(62)\n",
    "        black_pop_end_true = black_pop[:,i+1]\n",
    "        income_start = income_mean[:,i]\n",
    "        black_rate_start = black_rate[:,i]\n",
    "        black_pop_start = black_pop[:,i]\n",
    "        for j in range(62):\n",
    "            for k in range(62):\n",
    "                x1, x2, x3, x4 = income_start[j], black_rate_start[j], income_start[k], black_rate_start[k]\n",
    "                probability[j,k] = pr(x1, x2, x3, x4)\n",
    "        for q in range(62):\n",
    "            probability[q,q] = 1\n",
    "            total = probability[q,:].sum() - 1\n",
    "            if total == 0:\n",
    "                total = 1\n",
    "            probability[q,:] = (1-r)*probability[q,:]/total\n",
    "            probability[q,q] = r\n",
    "        for p in range(62):\n",
    "            List = list(range(62)).pop(p)\n",
    "            black_pop_end[p] = (probability[:,p]*black_pop_start).sum()\n",
    "        black_pre[:,i+1] = black_pop_end\n",
    "        loss = ((black_pop_end - black_pop_end_true)**2).sum()\n",
    "        Loss.append(loss)\n",
    "    return black_pre"
   ]
  },
  {
   "cell_type": "code",
   "execution_count": null,
   "metadata": {},
   "outputs": [],
   "source": [
    "np.abs(Mat([b1_MLE, b2_MLE, r_MLE])[black_pop!=0]/black_pop[black_pop!=0]-1).mean()"
   ]
  },
  {
   "cell_type": "code",
   "execution_count": null,
   "metadata": {},
   "outputs": [],
   "source": [
    "np.array(Mat([b1_MLE, b2_MLE, r_MLE]),dtype='int')"
   ]
  },
  {
   "cell_type": "code",
   "execution_count": null,
   "metadata": {},
   "outputs": [],
   "source": [
    "new_black_pop = np.zeros((62,7))\n",
    "new_black_pop[:,0] = black_pop[:,0]\n",
    "for i in range(6):\n",
    "    new_black_pop[:,i+1] = black_pop[:,i]"
   ]
  },
  {
   "cell_type": "code",
   "execution_count": null,
   "metadata": {},
   "outputs": [],
   "source": [
    "np.abs(new_black_pop[black_pop!=0]/black_pop[black_pop!=0]-1).mean()"
   ]
  },
  {
   "cell_type": "code",
   "execution_count": 8,
   "metadata": {},
   "outputs": [],
   "source": [
    "def loss_0(params, i=1):\n",
    "    b1, b2, r = params\n",
    "    black_pre = np.zeros((62,7))\n",
    "    black_pre[:,0] = black_pop[:,0]\n",
    "    def pr(x1, x2, x3, x4):\n",
    "        u1 = b1*np.log(x1) + b2*x2\n",
    "        u2 = b1*np.log(x3) + b2*x4\n",
    "        diff = u2-u1\n",
    "        return 1/(1+np.exp(-diff))\n",
    "    probability = np.zeros((62,62))\n",
    "    black_pop_end = np.zeros(62)\n",
    "    black_pop_end_true = black_pop[:,i+1]\n",
    "    income_start = income_mean[:,i]\n",
    "    black_rate_start = black_rate[:,i]\n",
    "    black_pop_start = black_pop[:,i]\n",
    "    for j in range(62):\n",
    "        for k in range(62):\n",
    "            x1, x2, x3, x4 = income_start[j], black_rate_start[j], income_start[k], black_rate_start[k]\n",
    "            probability[j,k] = pr(x1, x2, x3, x4)\n",
    "    for q in range(62):\n",
    "        probability[q,q] = 1\n",
    "        total = probability[q,:].sum() - 1\n",
    "        if total == 0:\n",
    "            total = 1\n",
    "        probability[q,:] = (1-r)*probability[q,:]/total\n",
    "        probability[q,q] = r\n",
    "    for p in range(62):\n",
    "        List = list(range(62)).pop(p)\n",
    "        black_pop_end[p] = (probability[:,p]*black_pop_start).sum()\n",
    "    black_pre[:,i+1] = black_pop_end\n",
    "    loss = ((black_pop_end[black_pop_end_true!=0]/black_pop_end_true[black_pop_end_true!=0]-1)**2).sum()\n",
    "    return loss"
   ]
  },
  {
   "cell_type": "code",
   "execution_count": 33,
   "metadata": {},
   "outputs": [],
   "source": [
    "b1 = 0.1\n",
    "b2 = 1\n",
    "r = 0.9\n",
    "params_init = np.array([b1, b2, r])\n",
    "results = opt.minimize(loss_0, params_init, tol = 1e-14, bounds = [(0.00001,None),(None,None),(0,0.99)])"
   ]
  },
  {
   "cell_type": "code",
   "execution_count": 34,
   "metadata": {},
   "outputs": [],
   "source": [
    "params_init = results.x"
   ]
  },
  {
   "cell_type": "code",
   "execution_count": 11,
   "metadata": {},
   "outputs": [],
   "source": [
    "def mat(params, i=1):\n",
    "    b1, b2, r = params\n",
    "    black_pre = np.zeros((62,7))\n",
    "    black_pre[:,0] = black_pop[:,0]\n",
    "    def pr(x1, x2, x3, x4):\n",
    "        u1 = b1*np.log(x1) + b2*x2\n",
    "        u2 = b1*np.log(x3) + b2*x4\n",
    "        diff = u2-u1\n",
    "        return 1/(1+np.exp(-diff))\n",
    "    probability = np.zeros((62,62))\n",
    "    black_pop_end = np.zeros(62)\n",
    "    black_pop_end_true = black_pop[:,i+1]\n",
    "    income_start = income_mean[:,i]\n",
    "    black_rate_start = black_rate[:,i]\n",
    "    black_pop_start = black_pop[:,i]\n",
    "    for j in range(62):\n",
    "        for k in range(62):\n",
    "            x1, x2, x3, x4 = income_start[j], black_rate_start[j], income_start[k], black_rate_start[k]\n",
    "            probability[j,k] = pr(x1, x2, x3, x4)\n",
    "    for q in range(62):\n",
    "        probability[q,q] = 1\n",
    "        total = probability[q,:].sum() - 1\n",
    "        if total == 0:\n",
    "            total = 1\n",
    "        probability[q,:] = (1-r)*probability[q,:]/total\n",
    "        probability[q,q] = r\n",
    "    for p in range(62):\n",
    "        black_pop_end[p] = (probability[:,p]*black_pop_start).sum()\n",
    "    return black_pop_end"
   ]
  },
  {
   "cell_type": "code",
   "execution_count": 30,
   "metadata": {},
   "outputs": [
    {
     "data": {
      "text/plain": [
       "      fun: 1.1602352828821496\n",
       " hess_inv: <3x3 LbfgsInvHessProduct with dtype=float64>\n",
       "      jac: array([ 1.57593938e-03,  2.22044605e-08, -7.65032482e-04])\n",
       "  message: b'CONVERGENCE: REL_REDUCTION_OF_F_<=_FACTR*EPSMCH'\n",
       "     nfev: 208\n",
       "      nit: 28\n",
       "   status: 0\n",
       "  success: True\n",
       "        x: array([1.00000000e-02, 8.11344387e+02, 9.77876584e-01])"
      ]
     },
     "execution_count": 30,
     "metadata": {},
     "output_type": "execute_result"
    }
   ],
   "source": [
    "results"
   ]
  },
  {
   "cell_type": "code",
   "execution_count": 31,
   "metadata": {},
   "outputs": [
    {
     "data": {
      "text/plain": [
       "array([  682,    38,    39,     0,  4895,    50,  4200, 12612, 17949,\n",
       "        6267,   907, 22236,  3199,  2655, 25312, 12343, 45735,  2583,\n",
       "       66960, 74594, 34786,  4664, 28702, 38607,  3342, 13782, 69197,\n",
       "       27111,   640,   237,  1616,  3883,  1060, 38093, 36402,  2174,\n",
       "       15834, 12067,  1849,  2440, 36011, 44929,  7625,   453,  5957,\n",
       "       41944, 41244, 21141, 29130,   557,  1956,   225,  1811,  2486,\n",
       "        7058,   555,    78,  2749,  3033,  3015,  4180, 25735])"
      ]
     },
     "execution_count": 31,
     "metadata": {},
     "output_type": "execute_result"
    }
   ],
   "source": [
    "np.array(mat(params_init),dtype='int')"
   ]
  },
  {
   "cell_type": "code",
   "execution_count": 32,
   "metadata": {},
   "outputs": [
    {
     "data": {
      "text/plain": [
       "0.021479780970397343"
      ]
     },
     "execution_count": 32,
     "metadata": {},
     "output_type": "execute_result"
    }
   ],
   "source": [
    "np.abs(np.array(mat(params_init),dtype='int')[black_pop[:,1]!=0]/np.array(black_pop[:,1],dtype='int')[black_pop[:,1]!=0]-1).mean()"
   ]
  },
  {
   "cell_type": "code",
   "execution_count": 35,
   "metadata": {},
   "outputs": [
    {
     "data": {
      "text/plain": [
       "0.021480719199788948"
      ]
     },
     "execution_count": 35,
     "metadata": {},
     "output_type": "execute_result"
    }
   ],
   "source": [
    "np.abs(np.array(mat(params_init),dtype='int')[black_pop[:,1]!=0]/np.array(black_pop[:,1],dtype='int')[black_pop[:,1]!=0]-1).mean()"
   ]
  },
  {
   "cell_type": "code",
   "execution_count": null,
   "metadata": {},
   "outputs": [],
   "source": [
    "np.abs(np.array(black_pop[:,1],dtype='int')[black_pop[:,2]!=0]/np.array(black_pop[:,2],dtype='int')[black_pop[:,2]!=0]-1).mean()"
   ]
  },
  {
   "cell_type": "code",
   "execution_count": null,
   "metadata": {},
   "outputs": [],
   "source": [
    "np.abs(np.array(mat(params_init),dtype='int')[black_pop[:,2]!=0]/np.array(black_pop[:,2],dtype='int')[black_pop[:,2]!=0]-1).mean()"
   ]
  },
  {
   "cell_type": "code",
   "execution_count": null,
   "metadata": {},
   "outputs": [],
   "source": [
    "np.array(black_pop[:,0],dtype='int')"
   ]
  },
  {
   "cell_type": "code",
   "execution_count": null,
   "metadata": {},
   "outputs": [],
   "source": [
    "np.array(black_pop[:,1],dtype='int')"
   ]
  },
  {
   "cell_type": "code",
   "execution_count": null,
   "metadata": {},
   "outputs": [],
   "source": [
    "np.array(black_pop, dtype = 'int')"
   ]
  },
  {
   "cell_type": "code",
   "execution_count": null,
   "metadata": {},
   "outputs": [],
   "source": [
    "np.array(black_pop, dtype = 'int').sum(axis = 0)"
   ]
  },
  {
   "cell_type": "code",
   "execution_count": null,
   "metadata": {},
   "outputs": [],
   "source": [
    "np.log(100000)"
   ]
  },
  {
   "cell_type": "code",
   "execution_count": null,
   "metadata": {},
   "outputs": [],
   "source": [
    "cfdewq"
   ]
  }
 ],
 "metadata": {
  "kernelspec": {
   "display_name": "Python 3",
   "language": "python",
   "name": "python3"
  },
  "language_info": {
   "codemirror_mode": {
    "name": "ipython",
    "version": 3
   },
   "file_extension": ".py",
   "mimetype": "text/x-python",
   "name": "python",
   "nbconvert_exporter": "python",
   "pygments_lexer": "ipython3",
   "version": "3.7.1"
  }
 },
 "nbformat": 4,
 "nbformat_minor": 2
}
