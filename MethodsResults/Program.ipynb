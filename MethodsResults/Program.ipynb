{
 "cells": [
  {
   "cell_type": "code",
   "execution_count": 1,
   "metadata": {},
   "outputs": [],
   "source": [
    "import numpy as np\n",
    "import pandas as pd"
   ]
  },
  {
   "cell_type": "code",
   "execution_count": 2,
   "metadata": {},
   "outputs": [],
   "source": [
    "Geography = np.zeros(62,dtype = 'object')\n",
    "income_mean = np.zeros((62,7))\n",
    "income_median = np.zeros((62,7))\n",
    "total_pop = np.zeros((62,7))\n",
    "black_pop = np.zeros((62,7))\n",
    "white_pop = np.zeros((62,7))\n",
    "black_rate = np.zeros((62,7))\n",
    "white_rate = np.zeros((62,7))"
   ]
  },
  {
   "cell_type": "code",
   "execution_count": 3,
   "metadata": {},
   "outputs": [],
   "source": [
    "file_list = ['Income/ACS_11_5YR_S1901_with_ann.csv','Income/ACS_12_5YR_S1901_with_ann.csv','Income/ACS_13_5YR_S1901_with_ann.csv',\n",
    "             'Income/ACS_14_5YR_S1901_with_ann.csv','Income/ACS_15_5YR_S1901_with_ann.csv','Income/ACS_16_5YR_S1901_with_ann.csv',\n",
    "             'Income/ACS_17_5YR_S1901_with_ann.csv']\n",
    "file_list2 = ['Population/ACS_11_5YR_B02001_with_ann.csv','Population/ACS_12_5YR_B02001_with_ann.csv','Population/ACS_13_5YR_B02001_with_ann.csv',\n",
    "              'Population/ACS_14_5YR_B02001_with_ann.csv','Population/ACS_15_5YR_B02001_with_ann.csv','Population/ACS_16_5YR_B02001_with_ann.csv',\n",
    "              'Population/ACS_17_5YR_B02001_with_ann.csv']\n",
    "for i in range(6):\n",
    "    data1 = pd.read_csv(file_list[i],header = None, skiprows = [0,1], names = ['zipcode','income median','income mean'], usecols = [2,91,99])\n",
    "    data2 = pd.read_csv(file_list2[i],header = None, skiprows = [0,1], names = ['zipcode', 'total', 'white', 'black'], usecols = [2,3,5,7])\n",
    "    for j in range(62):\n",
    "        Geography[j] = data1['zipcode'][j]\n",
    "        income_mean[j,i] = data1['income mean'][j]\n",
    "        income_median[j,i] = data1['income median'][j]\n",
    "        total_pop[j,i] = data2['total'][j]\n",
    "        white_pop[j,i] = data2['white'][j]\n",
    "        black_pop[j,i] = data2['black'][j]\n",
    "        white_rate[j,i] = white_pop[j,i]/total_pop[j,i]\n",
    "        black_rate[j,i] = black_pop[j,i]/total_pop[j,i]\n",
    "data1 = pd.read_csv(file_list[6],header = None, skiprows = [0,1], names = ['zipcode','income median','income mean'], usecols = [2,25,27])\n",
    "data2 = pd.read_csv(file_list2[6],header = None, skiprows = [0,1], names = ['zipcode', 'total', 'white', 'black'], usecols = [2,3,5,7])\n",
    "for j in range(62):\n",
    "    Geography[j] = data1['zipcode'][j]\n",
    "    income_mean[j,6] = data1['income mean'][j]\n",
    "    income_median[j,6] = data1['income median'][j]\n",
    "    total_pop[j,6] = data2['total'][j]\n",
    "    white_pop[j,6] = data2['white'][j]\n",
    "    black_pop[j,6] = data2['black'][j]\n",
    "    white_rate[j,6] = white_pop[j,6]/total_pop[j,6]\n",
    "    black_rate[j,6] = black_pop[j,6]/total_pop[j,6]\n"
   ]
  },
  {
   "cell_type": "code",
   "execution_count": 5,
   "metadata": {},
   "outputs": [],
   "source": [
    "def loss(b1, b2, r):\n",
    "    Loss = []\n",
    "    def pr(x1, x2, x3, x4):\n",
    "        u1 = b1*x1 + b2*x2\n",
    "        u2 = b1*x1 + b2*x2\n",
    "        diff = u2-u1\n",
    "        return 1/(1+np.exp(-r*diff))\n",
    "    for i in range(6):\n",
    "        probability = np.zeros((62,62))\n",
    "        black_pop_end = np.zero(62)\n",
    "        black_pop_end_true = black_pop[:,i+1]\n",
    "        income_start = income_mean[:,i]\n",
    "        black_rate_start = black_rate[:,i]\n",
    "        black_pop_start = black_pop[:,i]\n",
    "        for j in range(62):\n",
    "            for k in range(62):\n",
    "                x1, x2, x3, x4 = income_start[j], black_rate_start[j], income_start[k], black_rate_start[k]\n",
    "                probability[j,k] = pr(x1, x2, x3, x4)\n",
    "        for q in range(62):\n",
    "            total = probability[q,:].sum()\n",
    "            probability[q,:] = probability[q,:]/total\n",
    "        for p in range(62):\n",
    "            List = list(range(62)).pop(p)\n",
    "            black_pop_end[p] = (probability[:,p]*black_pop_start).sum()\n",
    "        loss = ((black_pop_end - black_pop_end_true)**2).sum()\n",
    "        Loss.append(loss)\n",
    "    return np.array(Loss).sum()"
   ]
  },
  {
   "cell_type": "code",
   "execution_count": null,
   "metadata": {},
   "outputs": [],
   "source": []
  }
 ],
 "metadata": {
  "kernelspec": {
   "display_name": "Python 3",
   "language": "python",
   "name": "python3"
  },
  "language_info": {
   "codemirror_mode": {
    "name": "ipython",
    "version": 3
   },
   "file_extension": ".py",
   "mimetype": "text/x-python",
   "name": "python",
   "nbconvert_exporter": "python",
   "pygments_lexer": "ipython3",
   "version": "3.7.1"
  }
 },
 "nbformat": 4,
 "nbformat_minor": 2
}
